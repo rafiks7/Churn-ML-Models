{
 "cells": [
  {
   "cell_type": "code",
   "execution_count": null,
   "metadata": {},
   "outputs": [],
   "source": [
    "import requests\n",
    "import json\n",
    "\n",
    "# URL of deployed model\n",
    "\n",
    "url = \"\"\n",
    "\n",
    "# Sample customer data\n",
    "customer_data = {\n",
    "    \"CreditScore\": 619,\n",
    "    \"Geography\": \"France\",\n",
    "    \"Gender\": \"Female\",\n",
    "    \"Age\": 42,\n",
    "    \"Tenure\": 2,\n",
    "    \"Balance\": 0.00,\n",
    "    \"NumOfProducts\": 1,\n",
    "    \"HasCrCard\": 1,\n",
    "    \"IsActiveMember\": 1,\n",
    "    \"EstimatedSalary\": 101348.82\n",
    "}\n",
    "\n",
    "models = [\"xgb\", \"rf\", \"gb-selective\", \"voting\", \"stacking\"]\n",
    "model = models[0]\n",
    "\n",
    "test_data = {\n",
    "    \"model\": model,\n",
    "    \"data\": customer_data\n",
    "}\n",
    "\n",
    "# Send POST request\n",
    "response = requests.post(url, json=test_data)\n",
    "\n",
    "if response.status_code == 200:\n",
    "    print(response.json())\n",
    "else:\n",
    "    print(\"Error:\", response.status_code, response.text)"
   ]
  }
 ],
 "metadata": {
  "language_info": {
   "name": "python"
  }
 },
 "nbformat": 4,
 "nbformat_minor": 2
}
