{
 "cells": [
  {
   "cell_type": "code",
   "execution_count": 2,
   "metadata": {},
   "outputs": [
    {
     "name": "stdout",
     "output_type": "stream",
     "text": [
      "Error: 500 Internal Server Error\n"
     ]
    }
   ],
   "source": [
    "import requests\n",
    "import json\n",
    "\n",
    "# URL of deployed model\n",
    "\n",
    "url = \"https://churn-ml-models-b1ch.onrender.com/predict\"\n",
    "\n",
    "# Sample customer data\n",
    "customer_data = {\n",
    "    \"CreditScore\": 619,\n",
    "    \"Geography\": \"France\",\n",
    "    \"Gender\": \"Female\",\n",
    "    \"Age\": 42,\n",
    "    \"Tenure\": 2,\n",
    "    \"Balance\": 0.00,\n",
    "    \"NumOfProducts\": 1,\n",
    "    \"HasCrCard\": 1,\n",
    "    \"IsActiveMember\": 1,\n",
    "    \"EstimatedSalary\": 101348.82\n",
    "}\n",
    "\n",
    "models = [\"xgb\", \"rf\", \"gb-selective\", \"voting\", \"stacking\"]\n",
    "model = models[0]\n",
    "\n",
    "test_data = {\n",
    "    \"model\": model,\n",
    "    \"data\": customer_data\n",
    "}\n",
    "\n",
    "# Send POST request\n",
    "response = requests.post(url, json=test_data)\n",
    "\n",
    "if response.status_code == 200:\n",
    "    print(response.json())\n",
    "else:\n",
    "    print(\"Error:\", response.status_code, response.text)"
   ]
  }
 ],
 "metadata": {
  "kernelspec": {
   "display_name": "Python 3",
   "language": "python",
   "name": "python3"
  },
  "language_info": {
   "codemirror_mode": {
    "name": "ipython",
    "version": 3
   },
   "file_extension": ".py",
   "mimetype": "text/x-python",
   "name": "python",
   "nbconvert_exporter": "python",
   "pygments_lexer": "ipython3",
   "version": "3.11.8"
  }
 },
 "nbformat": 4,
 "nbformat_minor": 2
}
